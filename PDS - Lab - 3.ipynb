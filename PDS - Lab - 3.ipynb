{
 "cells": [
  {
   "cell_type": "markdown",
   "metadata": {
    "id": "mzUfu_4vSCd9"
   },
   "source": [
    "\n",
    "___\n",
    "\n",
    "<a href='https://www.darshan.ac.in/'> <img src='https://gtu.darshan.ac.in/Upload/Logo/DIET_Logo.svg' /></a>\n",
    "___\n",
    "<pre>\n",
    "<center><b>Python for Data Science - 3150713</b></center>\n",
    "<center><b>Lab - 3</b></center>    \n",
    "<pre>"
   ]
  },
  {
   "cell_type": "markdown",
   "metadata": {
    "id": "MD_xAArnSCeA"
   },
   "source": [
    "# 01) WAP to check given string is palindrome or not."
   ]
  },
  {
   "cell_type": "code",
   "execution_count": 1,
   "metadata": {
    "colab": {
     "base_uri": "https://localhost:8080/",
     "height": 51
    },
    "id": "Yt6w1k8tSCeC",
    "outputId": "fccefea5-25e2-46e8-a991-78817b610614"
   },
   "outputs": [
    {
     "name": "stdout",
     "output_type": "stream",
     "text": [
      "Enter string : abcdcba\n",
      "Yes\n"
     ]
    }
   ],
   "source": [
    "s = input(\"Enter string : \")\n",
    "\n",
    "if s == s[::-1] :\n",
    "    print(\"Yes\")\n",
    "else :\n",
    "    print(\"No\")"
   ]
  },
  {
   "cell_type": "markdown",
   "metadata": {
    "id": "vrUVzoePSCeM"
   },
   "source": [
    "# 02) WAP to reverse the word in given string."
   ]
  },
  {
   "cell_type": "code",
   "execution_count": 2,
   "metadata": {
    "colab": {
     "base_uri": "https://localhost:8080/",
     "height": 51
    },
    "id": "slaAj57ZSCeO",
    "outputId": "7ab7a8a6-bdee-4b4d-e87d-19c765316c74"
   },
   "outputs": [
    {
     "name": "stdout",
     "output_type": "stream",
     "text": [
      "Enter string : abcdef\n",
      "Reverse string is  fedcba\n"
     ]
    }
   ],
   "source": [
    "s = input(\"Enter string : \")\n",
    "\n",
    "s = s[::-1]\n",
    "\n",
    "print(\"Reverse string is \",s)"
   ]
  },
  {
   "cell_type": "markdown",
   "metadata": {
    "id": "Z9HfDENfSCeW"
   },
   "source": [
    "# 03) WAP to remove ith character from given string."
   ]
  },
  {
   "cell_type": "code",
   "execution_count": 3,
   "metadata": {
    "colab": {
     "base_uri": "https://localhost:8080/",
     "height": 68
    },
    "id": "r0eLDMfPSCeY",
    "outputId": "e94c3a55-c9f2-4a8b-f02d-0244113d3f7d"
   },
   "outputs": [
    {
     "name": "stdout",
     "output_type": "stream",
     "text": [
      "Enter string : Krina Bhalodiya\n",
      "Enter ith position of element which you want to delete : 13\n",
      "Krina Bhalodia\n"
     ]
    }
   ],
   "source": [
    "string = input(\"Enter string : \")\n",
    "i = int(input(\"Enter ith position of element which you want to delete : \"))\n",
    "\n",
    "for j in range(len(string)):\n",
    "        if j == i:\n",
    "            string = string.replace(string[i], \"\", 1)\n",
    "\n",
    "print(string)"
   ]
  },
  {
   "cell_type": "markdown",
   "metadata": {
    "id": "-2b6ZObZSCeg"
   },
   "source": [
    "# 04) WAP to find length of String without using len function."
   ]
  },
  {
   "cell_type": "code",
   "execution_count": 4,
   "metadata": {
    "colab": {
     "base_uri": "https://localhost:8080/",
     "height": 68
    },
    "id": "VrDwVQCSSCeh",
    "outputId": "0de7579e-c89b-4602-af28-e202391f7411"
   },
   "outputs": [
    {
     "name": "stdout",
     "output_type": "stream",
     "text": [
      "Enter string : Krina Bhalodiya\n",
      "Length of string is :  15\n"
     ]
    }
   ],
   "source": [
    "string = input(\"Enter string : \")\n",
    "\n",
    "count = 0\n",
    "\n",
    "for i in string:\n",
    "    count+=1\n",
    "    \n",
    "print(\"Length of string is : \",count)"
   ]
  },
  {
   "cell_type": "markdown",
   "metadata": {
    "id": "NTlJQIiXSCep"
   },
   "source": [
    "# 05) WAP to print even length word in string"
   ]
  },
  {
   "cell_type": "code",
   "execution_count": 5,
   "metadata": {
    "colab": {
     "base_uri": "https://localhost:8080/",
     "height": 68
    },
    "id": "R9jyfF_xSCer",
    "outputId": "b28c6203-d29b-452a-c25a-1afce5924381"
   },
   "outputs": [
    {
     "name": "stdout",
     "output_type": "stream",
     "text": [
      "Enter string : This is a python language\n",
      "Even length words are : \n",
      "This\n",
      "is\n",
      "python\n",
      "language\n"
     ]
    }
   ],
   "source": [
    "string = input(\"Enter string : \")\n",
    "string = string.split(\" \")\n",
    "\n",
    "print(\"Even length words are : \")\n",
    "for i in string : \n",
    "    if len(i)%2==0:\n",
    "        print(i)"
   ]
  },
  {
   "cell_type": "markdown",
   "metadata": {
    "id": "Z27bj9VNSCe3"
   },
   "source": [
    "# 06) WAP to count numbers of vowels in given string."
   ]
  },
  {
   "cell_type": "code",
   "execution_count": 1,
   "metadata": {
    "colab": {
     "base_uri": "https://localhost:8080/",
     "height": 51
    },
    "id": "C7vvIPR0SCe5",
    "outputId": "01a3a596-0167-47f7-a8d3-36a65a26bf1c"
   },
   "outputs": [
    {
     "name": "stdout",
     "output_type": "stream",
     "text": [
      "Enter string : Krina Bhalodiya\n",
      "Number of vowels are :  6\n"
     ]
    }
   ],
   "source": [
    "string = input(\"Enter string : \")\n",
    "count=0\n",
    "\n",
    "for i in string : \n",
    "    if(i=='a' or i=='e' or i=='i' or i=='o' or i=='u' or i=='A' or i=='E' or i=='I' or i=='O' or i=='U'):\n",
    "        count=count+1\n",
    "print(\"Number of vowels are : \",count)"
   ]
  },
  {
   "cell_type": "markdown",
   "metadata": {
    "id": "F17WR4tOSCfE"
   },
   "source": [
    "# 07) WAP which accepts a string as input to print \"Yes\" if the string is \"yes\" or \"YES\" or \"Yes\", otherwise print \"No\"."
   ]
  },
  {
   "cell_type": "code",
   "execution_count": 3,
   "metadata": {
    "colab": {
     "base_uri": "https://localhost:8080/",
     "height": 51
    },
    "id": "9t4piyJUSCfF",
    "outputId": "0d8da18e-29a3-457a-c29c-b8e03fc3586f"
   },
   "outputs": [
    {
     "name": "stdout",
     "output_type": "stream",
     "text": [
      "Enter string : Yes\n",
      "Yes\n"
     ]
    }
   ],
   "source": [
    "string = input(\"Enter string : \")\n",
    "if (string == \"yes\" or string == \"YES\" or string==\"Yes\"):\n",
    "    print(\"Yes\")\n",
    "else : \n",
    "    print(\"No\")"
   ]
  },
  {
   "cell_type": "markdown",
   "metadata": {
    "id": "4Mep9CIaSCfN"
   },
   "source": [
    "# 08) WAP to check whether string contains any special character or not."
   ]
  },
  {
   "cell_type": "code",
   "execution_count": 5,
   "metadata": {
    "colab": {
     "base_uri": "https://localhost:8080/",
     "height": 51
    },
    "id": "zdXPIZbVSCfO",
    "outputId": "072da85e-5b94-4622-9292-ff398fd6ab08"
   },
   "outputs": [
    {
     "name": "stdout",
     "output_type": "stream",
     "text": [
      "Enter string : Krina@Bhalodiya\n",
      "String contains special characters\n"
     ]
    }
   ],
   "source": [
    "string = input(\"Enter string : \")\n",
    "count = 0\n",
    "s=\"[@_!#$%^&*()<>?/\\|}{~:]\"\n",
    "\n",
    "for i in string :\n",
    "    if i in s :\n",
    "        count=count+1\n",
    "        \n",
    "if(count!=0):\n",
    "    print(\"String contains special characters\")\n",
    "\n",
    "else :\n",
    "    print(\"String not contains special characters\")"
   ]
  },
  {
   "cell_type": "markdown",
   "metadata": {
    "id": "guqow8TPSCfV"
   },
   "source": [
    "\n",
    "\n",
    "```\n",
    "# This is formatted as code\n",
    "```\n",
    "\n",
    "# 09) WAP to generate random strings until a given string is generated."
   ]
  },
  {
   "cell_type": "code",
   "execution_count": 1,
   "metadata": {
    "colab": {
     "base_uri": "https://localhost:8080/",
     "height": 1000
    },
    "id": "_Yrsl4DLSCfX",
    "outputId": "3f09060d-1edb-48b4-a8f9-de79c96c500d"
   },
   "outputs": [
    {
     "name": "stdout",
     "output_type": "stream",
     "text": [
      "Enter String:k\n",
      "Enter number of character : 1\n",
      "g\n",
      "v\n",
      "p\n",
      "w\n",
      "j\n",
      "d\n",
      "y\n",
      "e\n",
      "v\n",
      "n\n",
      "t\n",
      "g\n",
      "f\n",
      "g\n",
      "r\n",
      "q\n",
      "f\n",
      "g\n",
      "d\n",
      "v\n",
      "j\n",
      "z\n",
      "i\n",
      "e\n",
      "e\n",
      "i\n",
      "z\n",
      "j\n",
      "c\n",
      "j\n",
      "f\n",
      "g\n",
      "w\n",
      "z\n",
      "e\n",
      "v\n",
      "q\n",
      "h\n",
      "i\n",
      "t\n",
      "q\n",
      "q\n",
      "b\n",
      "k\n"
     ]
    }
   ],
   "source": [
    "import string\n",
    "import random\n",
    "s=input(\"Enter String:\")\n",
    "n=int(input(\"Enter number of character : \"))\n",
    "while 1:\n",
    "    news=\"\".join(random.choices(string.ascii_lowercase,k=n))\n",
    "    print(news)\n",
    "    if news==s:\n",
    "        break"
   ]
  },
  {
   "cell_type": "markdown",
   "metadata": {
    "id": "qefYXvY4SCfe"
   },
   "source": [
    "# 10) WAP to check given string data in binary formats or not. "
   ]
  },
  {
   "cell_type": "code",
   "execution_count": 3,
   "metadata": {
    "colab": {
     "base_uri": "https://localhost:8080/",
     "height": 51
    },
    "id": "aDicrOWBSCff",
    "outputId": "cb1e58a7-ac7b-4d30-b4a0-7b548736e79b"
   },
   "outputs": [
    {
     "name": "stdout",
     "output_type": "stream",
     "text": [
      "Enter string : 0821738\n",
      "It's not binary string\n"
     ]
    }
   ],
   "source": [
    "string = input(\"Enter string : \")\n",
    "flag=0\n",
    "for i in string :\n",
    "    if (i != '0' and i != '1'):\n",
    "        flag=1\n",
    "        break\n",
    "        \n",
    "if(flag==1):\n",
    "    print(\"It's not binary string\")\n",
    "else:\n",
    "    print(\"It's binary string\")"
   ]
  },
  {
   "cell_type": "markdown",
   "metadata": {
    "id": "Xna_bMSUSCfn"
   },
   "source": [
    "# 11) WAP to find all duplicate characters in string."
   ]
  },
  {
   "cell_type": "code",
   "execution_count": 8,
   "metadata": {
    "colab": {
     "base_uri": "https://localhost:8080/",
     "height": 85
    },
    "id": "JtiOqKTGSCfo",
    "outputId": "8ffc10d2-f9f5-4fb3-a28e-ee39397c5ee4"
   },
   "outputs": [
    {
     "name": "stdout",
     "output_type": "stream",
     "text": [
      "Enter string : krrinnaa\n",
      "Duplicate characters in a given string: \n",
      "r\n",
      "n\n",
      "a\n"
     ]
    }
   ],
   "source": [
    "string = input(\"Enter string : \") \n",
    "   \n",
    "print(\"Duplicate characters in a given string: \");  \n",
    "\n",
    "for i in range(0, len(string)):  \n",
    "    count = 1;  \n",
    "    for j in range(i+1, len(string)):  \n",
    "        if(string[i] == string[j] and string[i] != ' '):  \n",
    "            count = count + 1;  \n",
    "            #Set 0 in string[j] to avoid printing visited character  \n",
    "            string = string[:j] + '0' + string[j+1:];  \n",
    "   \n",
    "    #duplicate character\n",
    "    if(count > 1 and string[i] != '0'):  \n",
    "        print(string[i]);  "
   ]
  },
  {
   "cell_type": "markdown",
   "metadata": {
    "id": "-LHMKDd1SCfw"
   },
   "source": [
    "# 12) WAP to read an ASCII string and to convert it to a Unicode string encoded by utf-8."
   ]
  },
  {
   "cell_type": "code",
   "execution_count": 2,
   "metadata": {
    "id": "aXvJsiOsSCfy"
   },
   "outputs": [
    {
     "name": "stdout",
     "output_type": "stream",
     "text": [
      "Enter String : python\n",
      "b'python'\n"
     ]
    }
   ],
   "source": [
    "string=input(\"Enter String : \")\n",
    "print(string.encode())"
   ]
  },
  {
   "cell_type": "markdown",
   "metadata": {
    "id": "_Zg5TbMPSCf5"
   },
   "source": [
    "# 13) WAP to do String slicing\n",
    "                 a)\tLeft (Or anticlockwise) rotate the given string by d elements (where d <= n).\n",
    "                 b)\tRight (Or clockwise) rotate the given string by d elements (where d <= n).\n"
   ]
  },
  {
   "cell_type": "code",
   "execution_count": 6,
   "metadata": {
    "id": "pxYGUQrsSCf7"
   },
   "outputs": [
    {
     "name": "stdout",
     "output_type": "stream",
     "text": [
      "Enter String:abcdefghi\n",
      "Enter number of elements:3\n",
      "aei\n",
      "iea\n"
     ]
    }
   ],
   "source": [
    "s=input(\"Enter String:\")\n",
    "d=int(input(\"Enter number of elements:\"))\n",
    "ans1=s[::d+1]\n",
    "ans2=s[::-d-1]\n",
    "print(ans1)\n",
    "print(ans2)"
   ]
  },
  {
   "cell_type": "code",
   "execution_count": null,
   "metadata": {},
   "outputs": [],
   "source": []
  }
 ],
 "metadata": {
  "colab": {
   "collapsed_sections": [],
   "name": "180540107027_(String) - Jayraj Chavada.ipynb",
   "provenance": []
  },
  "kernelspec": {
   "display_name": "Python 3 (ipykernel)",
   "language": "python",
   "name": "python3"
  },
  "language_info": {
   "codemirror_mode": {
    "name": "ipython",
    "version": 3
   },
   "file_extension": ".py",
   "mimetype": "text/x-python",
   "name": "python",
   "nbconvert_exporter": "python",
   "pygments_lexer": "ipython3",
   "version": "3.9.12"
  },
  "vscode": {
   "interpreter": {
    "hash": "31f2aee4e71d21fbe5cf8b01ff0e069b9275f58929596ceb00d14d90e3e16cd6"
   }
  }
 },
 "nbformat": 4,
 "nbformat_minor": 1
}
