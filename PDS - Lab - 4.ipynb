{
 "cells": [
  {
   "cell_type": "markdown",
   "metadata": {
    "id": "5IxH57pmG-GY"
   },
   "source": [
    "\n",
    "___\n",
    "\n",
    "<a href='https://www.darshan.ac.in/'> <img src='https://gtu.darshan.ac.in/Upload/Logo/DIET_Logo.svg' /></a>\n",
    "___\n",
    "<pre>\n",
    "<center><b>Python for Data Science - 3150713</b></center>\n",
    "<center><b>Lab - 4</b></center>    \n",
    "<pre>"
   ]
  },
  {
   "cell_type": "markdown",
   "metadata": {
    "id": "_FHUM-CHG-Gd"
   },
   "source": [
    "# 01) WAP to find sum of all the elements in List."
   ]
  },
  {
   "cell_type": "code",
   "execution_count": 1,
   "metadata": {
    "id": "ybLtCnveG-Ge",
    "outputId": "092082a0-6010-4ee1-fd15-376801468c73"
   },
   "outputs": [
    {
     "name": "stdout",
     "output_type": "stream",
     "text": [
      "Enter length of list : 4\n",
      "Enter elements : \n",
      "10\n",
      "11\n",
      "12\n",
      "13\n",
      "Sum of all the elements =  46\n"
     ]
    }
   ],
   "source": [
    "length=int(input(\"Enter length of list : \"))\n",
    "print(\"Enter elements : \")\n",
    "my_list=[]\n",
    "sum=0\n",
    "\n",
    "for i in range(1, length+1):\n",
    "    num=int(input())\n",
    "    my_list.append(num)\n",
    "    sum+=num\n",
    "    \n",
    "print(\"Sum of all the elements = \",sum)"
   ]
  },
  {
   "cell_type": "markdown",
   "metadata": {
    "id": "6-sXb9PSG-Gh"
   },
   "source": [
    "# 02) WAP to find largest element in a List."
   ]
  },
  {
   "cell_type": "code",
   "execution_count": 2,
   "metadata": {
    "id": "oTUGWtFZG-Gi",
    "outputId": "bbba26cc-04aa-40ad-c902-f976ee34d20a"
   },
   "outputs": [
    {
     "name": "stdout",
     "output_type": "stream",
     "text": [
      "Enter length of list : 4\n",
      "Enter elements: 10\n",
      "Enter elements: 11\n",
      "Enter elements: 12\n",
      "Enter elements: 13\n",
      "Largest element is: 13\n"
     ]
    }
   ],
   "source": [
    "my_list = []\n",
    "num = int(input(\"Enter length of list : \"))\n",
    "\n",
    "for i in range(1, num + 1):\n",
    "    element = int(input(\"Enter elements: \"))\n",
    "    my_list.append(element)\n",
    "     \n",
    "print(\"Largest element is:\", max(my_list))"
   ]
  },
  {
   "cell_type": "markdown",
   "metadata": {
    "id": "1J0WHwUNG-Gj"
   },
   "source": [
    "# 03) WAP to split the List into two and append the first part to the end."
   ]
  },
  {
   "cell_type": "code",
   "execution_count": 3,
   "metadata": {
    "id": "hXcf57rdG-Gk",
    "outputId": "fec29838-ef07-4033-92ad-49786f3c7efb"
   },
   "outputs": [
    {
     "name": "stdout",
     "output_type": "stream",
     "text": [
      "Enter number of elements in list: 5\n",
      "Enter elements: 10\n",
      "Enter elements: 11\n",
      "Enter elements: 12\n",
      "Enter elements: 13\n",
      "Enter elements: 14\n",
      "Enter number :3\n",
      "Output list is [13, 14, 10, 11, 12]\n"
     ]
    }
   ],
   "source": [
    "def split(my_list, k):\n",
    "    my_list = my_list[k:] + my_list[:k]\n",
    "    return my_list\n",
    "   \n",
    "my_list = []\n",
    "num = int(input(\"Enter number of elements in list: \"))\n",
    "\n",
    "for i in range(1, num + 1):\n",
    "    element = int(input(\"Enter elements: \"))\n",
    "    my_list.append(element)\n",
    "    \n",
    "k =int(input(\"Enter number :\"))\n",
    "    \n",
    "print(\"Output list is\", split(my_list, k))"
   ]
  },
  {
   "cell_type": "markdown",
   "metadata": {
    "id": "q9WGqT_bG-Gl"
   },
   "source": [
    "# 04) WAP to interchange first and last element in list entered by a user."
   ]
  },
  {
   "cell_type": "code",
   "execution_count": 5,
   "metadata": {
    "id": "dPvM9W0dG-Gm",
    "outputId": "41637451-4895-4166-864e-0792ba7a356d"
   },
   "outputs": [
    {
     "name": "stdout",
     "output_type": "stream",
     "text": [
      "Enter number of elements in list: 5\n",
      "Enter elements: 10\n",
      "Enter elements: 11\n",
      "Enter elements: 12\n",
      "Enter elements: 13\n",
      "Enter elements: 14\n",
      "New list is: [14, 11, 12, 13, 10]\n"
     ]
    }
   ],
   "source": [
    "my_list = []\n",
    "num = int(input(\"Enter number of elements in list: \"))\n",
    "\n",
    "for i in range(1, num + 1):\n",
    "    element = int(input(\"Enter elements: \"))\n",
    "    my_list.append(element)\n",
    "    \n",
    "temp=my_list[0]\n",
    "my_list[0]=my_list[num-1]\n",
    "my_list[num-1]=temp\n",
    "print(\"New list is:\", my_list)"
   ]
  },
  {
   "cell_type": "markdown",
   "metadata": {
    "id": "vfr11EOSG-Gn"
   },
   "source": [
    "# 05) WAP to interchange the elements on two positions entered by a user."
   ]
  },
  {
   "cell_type": "code",
   "execution_count": 6,
   "metadata": {
    "id": "9AXXFjmXG-Go",
    "outputId": "2c0f53db-7071-41d3-bc03-af215bae7e21"
   },
   "outputs": [
    {
     "name": "stdout",
     "output_type": "stream",
     "text": [
      "Enter number of elements: 5\n",
      "Enter Elements : \n",
      "10\n",
      "11\n",
      "12\n",
      "13\n",
      "14\n",
      "Enter indexes to be swapped \n",
      "index 1: 1\n",
      "index 2: 2\n",
      "Initial List:  [10, 11, 12, 13, 14]\n",
      "List after Swapping:  [10, 12, 11, 13, 14]\n"
     ]
    }
   ],
   "source": [
    "my_List = []\n",
    "length = int(input(\"Enter number of elements: \"))\n",
    "print(\"Enter Elements : \")\n",
    "for i in range(0, length):\n",
    "    val = int(input())\n",
    "    my_List.append(val)\n",
    "\n",
    "print(\"Enter indexes to be swapped \")\n",
    "index1 = int(input(\"index 1: \"))\n",
    "index2 = int(input(\"index 2: \"))\n",
    "\n",
    "print(\"Initial List: \", my_List)\n",
    "\n",
    "my_List[index1], my_List[index2] = my_List[index2], my_List[index1]\n",
    "                                                        \n",
    "print(\"List after Swapping: \", my_List)"
   ]
  },
  {
   "cell_type": "markdown",
   "metadata": {
    "id": "VABvkcqXG-Gp"
   },
   "source": [
    "# 06) WAP to remove Nth occurrence of the given word in the list entered by user."
   ]
  },
  {
   "cell_type": "code",
   "execution_count": 7,
   "metadata": {
    "id": "e5YWmQ8RG-Gq",
    "outputId": "4d43d37c-a263-49c0-d713-eabe7029aceb"
   },
   "outputs": [
    {
     "name": "stdout",
     "output_type": "stream",
     "text": [
      "Enter number of elements: 5\n",
      "KJB\n",
      "JJB\n",
      "BJB\n",
      "JHB\n",
      "KJB\n",
      "Enter word: 2\n",
      "Enter the occurrence of the word: 2\n",
      "['KJB', 'JJB', 'BJB', 'JHB', 'KJB']\n",
      "Item not found\n"
     ]
    }
   ],
   "source": [
    "def RemoveIthWord(my_Lists, word, N):\n",
    "    newList = []\n",
    "    count = 0\n",
    "\n",
    "    for i in my_Lists:\n",
    "        if(i == word):\n",
    "            count = count + 1\n",
    "            if(count != N):\n",
    "                newList.append(i)\n",
    "        else:\n",
    "            newList.append(i)\n",
    "             \n",
    "    my_Lists = newList\n",
    "     \n",
    "    if count == 0:\n",
    "        print(\"Item not found\")\n",
    "    else:\n",
    "        print(\"Updated list is: \", my_Lists)   \n",
    "\n",
    "my_List = []\n",
    "length = int(input(\"Enter number of elements: \"))\n",
    "for i in range(0, length):\n",
    "    val = input()\n",
    "    my_List.append(val)\n",
    "word = input(\"Enter word: \")\n",
    "N = int(input(\"Enter the occurrence of the word: \"))\n",
    "print(my_List)\n",
    " \n",
    "RemoveIthWord(my_List, word, N)"
   ]
  },
  {
   "cell_type": "markdown",
   "metadata": {
    "id": "Y7RN-OcVG-Gr"
   },
   "source": [
    "# 07) WAP to check whether given element exits in list or not."
   ]
  },
  {
   "cell_type": "code",
   "execution_count": 9,
   "metadata": {
    "id": "hxzXNra_G-Gs",
    "outputId": "f17bd96d-32af-4d8f-bf58-fadadcab1110"
   },
   "outputs": [
    {
     "name": "stdout",
     "output_type": "stream",
     "text": [
      "Enter number of elements: 5\n",
      "KRINA\n",
      "J\n",
      "BHALODIYA\n",
      "SEM-5\n",
      "DARSHAN\n",
      "Enter word: KRINA\n",
      "['KRINA', 'J', 'BHALODIYA', 'SEM-5', 'DARSHAN']\n",
      "word = KRINA\n",
      "Element exits\n"
     ]
    }
   ],
   "source": [
    "def SearchWord(my_List, word):\n",
    "    count = 0\n",
    "\n",
    "    for i in my_List:\n",
    "        if(i == word):\n",
    "            count = count + 1\n",
    "     \n",
    "    if count == 0:\n",
    "        print(\"Element does not exits\")\n",
    "    else:\n",
    "        print(\"Element exits\")\n",
    "\n",
    "my_List = []\n",
    "length = int(input(\"Enter number of elements: \"))\n",
    "for i in range(0, length):\n",
    "    val = input()\n",
    "    my_List.append(val)\n",
    "word = input(\"Enter word: \")\n",
    "print(my_List)\n",
    "print(\"word =\",word)\n",
    "\n",
    "SearchWord(my_List, word)"
   ]
  },
  {
   "cell_type": "markdown",
   "metadata": {
    "id": "ykN1fAPrG-Gt"
   },
   "source": [
    "# 08) WAP to reverser the list entered by user."
   ]
  },
  {
   "cell_type": "code",
   "execution_count": 10,
   "metadata": {
    "id": "GRPbL1LWG-Gu",
    "outputId": "370fee2d-7e89-441a-99ab-19f37e4414e7"
   },
   "outputs": [
    {
     "name": "stdout",
     "output_type": "stream",
     "text": [
      "Enter number of elements: 5\n",
      "10\n",
      "11\n",
      "12\n",
      "13\n",
      "14\n",
      "list = [10, 11, 12, 13, 14]\n",
      "reversed list = [14, 13, 12, 11, 10]\n"
     ]
    }
   ],
   "source": [
    "my_List = []\n",
    "length = int(input(\"Enter number of elements: \"))\n",
    "for i in range(0, length):\n",
    "    val = int(input())\n",
    "    my_List.append(val)\n",
    "\n",
    "print(\"list =\",my_List)\n",
    "my_List.reverse()\n",
    "print(\"reversed list =\",my_List)"
   ]
  },
  {
   "cell_type": "markdown",
   "metadata": {
    "id": "3QDjgOCTG-Gw"
   },
   "source": [
    "# 09) WAP to print all positive number in list entered by user."
   ]
  },
  {
   "cell_type": "code",
   "execution_count": 11,
   "metadata": {
    "id": "g06Bs0oEG-Gw",
    "outputId": "a9d8bdd0-7035-4155-acae-7e275c71a36b"
   },
   "outputs": [
    {
     "name": "stdout",
     "output_type": "stream",
     "text": [
      "Enter number of elements: 5\n",
      "-10\n",
      "10\n",
      "11\n",
      "-11\n",
      "12\n",
      "list = [-10, 10, 11, -11, 12]\n",
      "10 11 12 "
     ]
    }
   ],
   "source": [
    "my_List = []\n",
    "length = int(input(\"Enter number of elements: \"))\n",
    "for i in range(0, length):\n",
    "    val = int(input())\n",
    "    my_List.append(val)\n",
    "print(\"list =\",my_List)\n",
    "\n",
    "num = 0 \n",
    "while(num < len(my_List)):\n",
    "    if my_List[num] >= 0:\n",
    "        print(my_List[num], end = \" \")\n",
    "    num += 1"
   ]
  },
  {
   "cell_type": "markdown",
   "metadata": {
    "id": "C0DzX7IYG-Gx"
   },
   "source": [
    "# 10) WAP to check if given array is monotonic or not."
   ]
  },
  {
   "cell_type": "code",
   "execution_count": 13,
   "metadata": {
    "id": "2UHVeuNTG-Gy"
   },
   "outputs": [
    {
     "name": "stdout",
     "output_type": "stream",
     "text": [
      "False\n"
     ]
    }
   ],
   "source": [
    "def isMonotonic(A):\n",
    "    x, y = [], []\n",
    "    x.extend(A)\n",
    "    y.extend(A)\n",
    "    x.sort()\n",
    "    y.sort(reverse=True)\n",
    "    if(x == A or y == A):\n",
    "        return True\n",
    "    return False\n",
    "\n",
    "A = [5, 15, 25, 10]\n",
    "\n",
    "print(isMonotonic(A))"
   ]
  },
  {
   "cell_type": "markdown",
   "metadata": {
    "id": "TXeCXfFZG-Gz"
   },
   "source": [
    "# 11) WAP which takes 2 digits, X,Y as input and generates a 2-dimensional array of size X * Y. The element value in the i-th row and j-th column of the array should be i*j. Note: i=0,1.., X-1; j=0,1,¡­Y-1."
   ]
  },
  {
   "cell_type": "code",
   "execution_count": 14,
   "metadata": {
    "id": "iA10lUgVG-G0"
   },
   "outputs": [
    {
     "name": "stdout",
     "output_type": "stream",
     "text": [
      "Input number of rows: 4\n",
      "Input number of columns: 5\n",
      "[[0, 0, 0, 0, 0], [0, 1, 2, 3, 4], [0, 2, 4, 6, 8], [0, 3, 6, 9, 12]]\n"
     ]
    }
   ],
   "source": [
    "row_num = int(input(\"Input number of rows: \"))\n",
    "col_num = int(input(\"Input number of columns: \"))\n",
    "multi_list = [[0 for col in range(col_num)] for row in range(row_num)]\n",
    "\n",
    "for row in range(row_num):\n",
    "    for col in range(col_num):\n",
    "        multi_list[row][col]= row*col\n",
    "\n",
    "print(multi_list)"
   ]
  },
  {
   "cell_type": "markdown",
   "metadata": {
    "id": "nCHxeKKfG-G1"
   },
   "source": [
    "# 12) WAP to find median of array."
   ]
  },
  {
   "cell_type": "code",
   "execution_count": 15,
   "metadata": {
    "id": "vicmGyv5G-G2"
   },
   "outputs": [
    {
     "name": "stdout",
     "output_type": "stream",
     "text": [
      "Median = 4.5\n"
     ]
    }
   ],
   "source": [
    "def findMedian(a, n):\n",
    "    sorted(a)\n",
    "    if n % 2 != 0:\n",
    "        return float(a[int(n/2)])\n",
    " \n",
    "    return float((a[int((n-1)/2)] +\n",
    "                  a[int(n/2)])/2.0)\n",
    "\n",
    "a = [8, 7, 6, 5, 4, 3, 2, 1]\n",
    "n = len(a)\n",
    "\n",
    "print(\"Median =\", findMedian(a, n))"
   ]
  },
  {
   "cell_type": "markdown",
   "metadata": {
    "id": "7M6h6L6pG-G3"
   },
   "source": [
    "# 13) Write a program that interchanges the odd and even elements of an array."
   ]
  },
  {
   "cell_type": "code",
   "execution_count": 21,
   "metadata": {
    "id": "nqLeumgaG-G3"
   },
   "outputs": [],
   "source": [
    "def replace(arr,  n):\n",
    " \n",
    "    for i in range(n):\n",
    "        for j in range(i + 1, n):\n",
    "            if (arr[i] >= 0 and\n",
    "                arr[j] >= 0 and\n",
    "                arr[i] % 2 == 0 and\n",
    "                arr[j] % 2 != 0):\n",
    " \n",
    "                tmp = arr[i]\n",
    "                arr[i] = arr[j]\n",
    "                arr[j] = tmp\n",
    "\n",
    "                arr[j] = -arr[j]\n",
    " \n",
    "                break\n",
    " \n",
    "            elif (arr[i] >= 0 and\n",
    "                  arr[j] >= 0 and\n",
    "                  arr[i] % 2 != 0 and\n",
    "                  arr[j] % 2 == 0):\n",
    " \n",
    "                tmp = arr[i]\n",
    "                arr[i] = arr[j]\n",
    "                arr[j] = tmp\n",
    " \n",
    "                arr[j] = -arr[j]\n",
    " \n",
    "                break\n",
    " \n",
    "    for i in range(n):\n",
    "        arr[i] = abs(arr[i])\n",
    " \n",
    "    for i in range(n):\n",
    "        print(arr[i], end = \" \")\n",
    "        \n",
    "    if __name__ == \"__main__\":\n",
    "        arr = [1, 2, 3, 4]\n",
    "        n = len(arr)\n",
    " \n",
    "        replace(arr, n)"
   ]
  },
  {
   "cell_type": "markdown",
   "metadata": {
    "id": "wcb7jun0G-G4"
   },
   "source": [
    "# 14) WAP to find given number in the list and print the position of number using sequential search."
   ]
  },
  {
   "cell_type": "code",
   "execution_count": 20,
   "metadata": {
    "id": "KMemq0TQG-G4"
   },
   "outputs": [
    {
     "name": "stdout",
     "output_type": "stream",
     "text": [
      "Enter number of elements: 5\n",
      "10\n",
      "11\n",
      "12\n",
      "13\n",
      "14\n",
      "list = [10, 11, 12, 13, 14]\n",
      "Enter number: 15\n",
      "Element is not present in array\n"
     ]
    }
   ],
   "source": [
    "def search(my_List, N, length):\n",
    " \n",
    "    for i in range(0, length):\n",
    "        if (my_List[i] == N):\n",
    "            return i\n",
    "    return -1\n",
    " \n",
    "my_List = []\n",
    "length = int(input(\"Enter number of elements: \"))\n",
    "for i in range(0, length):\n",
    "    val = int(input())\n",
    "    my_List.append(val)\n",
    "print(\"list =\",my_List)\n",
    "N = int(input(\"Enter number: \"))\n",
    "\n",
    "result = search(my_List, N, length)\n",
    "if(result == -1):\n",
    "    print(\"Element is not present in array\")\n",
    "else:\n",
    "    print(\"Element is present at index\", result)"
   ]
  },
  {
   "cell_type": "markdown",
   "metadata": {
    "id": "UcuL0Y0OG-G5"
   },
   "source": [
    "# 15) WAP to multiply two 3*3 matrix."
   ]
  },
  {
   "cell_type": "code",
   "execution_count": 30,
   "metadata": {
    "id": "cuTT48YYG-G5"
   },
   "outputs": [
    {
     "name": "stdout",
     "output_type": "stream",
     "text": [
      "[30, 36, 42]\n",
      "[66, 81, 96]\n",
      "[102, 126, 150]\n"
     ]
    }
   ],
   "source": [
    "A = [[1, 2, 3],\n",
    "    [4, 5, 6],\n",
    "    [7, 8, 9]]\n",
    " \n",
    "B = [[1, 2, 3],\n",
    "    [4, 5, 6],\n",
    "    [7, 8, 9]]\n",
    "     \n",
    "result = [[0, 0, 0],\n",
    "        [0, 0, 0],\n",
    "        [0, 0, 0]]\n",
    " \n",
    "for i in range(len(A)):\n",
    " \n",
    "    for j in range(len(B[0])):\n",
    " \n",
    "        for k in range(len(B)):\n",
    "            result[i][j] += A[i][k] * B[k][j]\n",
    " \n",
    "for r in result:\n",
    "    print(r)"
   ]
  },
  {
   "cell_type": "markdown",
   "metadata": {
    "id": "rs7xIVBNG-G6"
   },
   "source": [
    "# 16) Write one line of Python code that returns list of even elements of the given list."
   ]
  },
  {
   "cell_type": "code",
   "execution_count": 29,
   "metadata": {
    "id": "RV1TlJwYG-G7"
   },
   "outputs": [
    {
     "name": "stdout",
     "output_type": "stream",
     "text": [
      "Enter number of elements: 5\n",
      "10\n",
      "11\n",
      "12\n",
      "13\n",
      "14\n",
      "list = [10, 11, 12, 13, 14]\n",
      "10 12 14 "
     ]
    }
   ],
   "source": [
    "my_List = []\n",
    "length = int(input(\"Enter number of elements: \"))\n",
    "for i in range(0, length):\n",
    "    val = int(input())\n",
    "    my_List.append(val)\n",
    "print(\"list =\",my_List)\n",
    "\n",
    "for num in my_List:\n",
    "    if num % 2 == 0:\n",
    "        print(num, end=\" \")"
   ]
  },
  {
   "cell_type": "markdown",
   "metadata": {
    "id": "KkRJWytRG-G9"
   },
   "source": [
    "# 17) WAP to find tuples which have all elements divisible by K from a list of tuples."
   ]
  },
  {
   "cell_type": "code",
   "execution_count": 31,
   "metadata": {
    "id": "zxa_T61kG-G_"
   },
   "outputs": [
    {
     "name": "stdout",
     "output_type": "stream",
     "text": [
      "The list is : \n",
      "[(45, 90, 135), (71, 92, 26), (2, 67, 98)]\n",
      "The value of K has been initialized to \n",
      "45\n",
      "Elements divisible by K are : [(45, 90, 135)]\n"
     ]
    }
   ],
   "source": [
    "my_list = [(45, 90, 135), (71, 92, 26), (2, 67, 98)]\n",
    "\n",
    "print(\"The list is : \")\n",
    "print(my_list)\n",
    "\n",
    "K = 45\n",
    "print(\"The value of K has been initialized to \")\n",
    "print(K)\n",
    "my_result = [sub for sub in my_list if all(ele % K == 0 for ele in sub)]\n",
    "\n",
    "print(\"Elements divisible by K are : \" + str(my_result))"
   ]
  },
  {
   "cell_type": "markdown",
   "metadata": {
    "id": "w9-ZoaSPG-HA"
   },
   "source": [
    "# 18) WAP to covert tuple into list by adding the given string after every element."
   ]
  },
  {
   "cell_type": "code",
   "execution_count": 32,
   "metadata": {
    "id": "kp_ewiUoG-HB"
   },
   "outputs": [
    {
     "name": "stdout",
     "output_type": "stream",
     "text": [
      "The tuple is :\n",
      "((15, 16), 71, 42, 99)\n",
      "The value of K is :\n",
      "Pyt\n",
      "The result is :\n",
      "[(15, 16), 'Pyt', 71, 'Pyt', 42, 'Pyt', 99, 'Pyt']\n"
     ]
    }
   ],
   "source": [
    "my_tuple = ((15, 16), (71), 42, 99)\n",
    "\n",
    "print(\"The tuple is :\")\n",
    "print(my_tuple)\n",
    "\n",
    "K = \"Pyt\"\n",
    "print(\"The value of K is :\")\n",
    "print(K)\n",
    "\n",
    "my_result = [element for sub in my_tuple for element in (sub, K)]\n",
    "\n",
    "print(\"The result is :\")\n",
    "print(my_result)"
   ]
  },
  {
   "cell_type": "markdown",
   "metadata": {
    "id": "Kb0K15vDG-HB"
   },
   "source": [
    "# 19) WAP to sort python dictionary by key or value."
   ]
  },
  {
   "cell_type": "code",
   "execution_count": 33,
   "metadata": {
    "id": "mPQhWcuvG-HC"
   },
   "outputs": [
    {
     "name": "stdout",
     "output_type": "stream",
     "text": [
      "{6: 3, 5: 4, 1: 6}\n"
     ]
    }
   ],
   "source": [
    "dictionary = {5:4, 1:6, 6:3}\n",
    "\n",
    "sorted_dictionary = {key: value for key, value in sorted(dictionary.items(), key=lambda item: item[1])}\n",
    "\n",
    "print(sorted_dictionary)"
   ]
  },
  {
   "cell_type": "markdown",
   "metadata": {
    "id": "QQgUF-1iG-HD"
   },
   "source": [
    "# 20) WAP to merge two dictionaries given by user."
   ]
  },
  {
   "cell_type": "code",
   "execution_count": 34,
   "metadata": {
    "id": "6suV-zTuG-HD"
   },
   "outputs": [
    {
     "name": "stdout",
     "output_type": "stream",
     "text": [
      "Enter variable: RAM\n",
      "Enter number: 10\n",
      "Enter variable: RAVAN\n",
      "Enter number: 9\n",
      "Enter variable: SITA\n",
      "Enter number: 8\n",
      "Enter variable: KRISHNA\n",
      "Enter number: 7\n",
      "Enter variable: RADHA\n",
      "Enter number: 6\n",
      "Enter variable: KRINA\n",
      "Enter number: 5\n",
      "None\n",
      "{'KRISHNA': '7', 'RADHA': '6', 'KRINA': '5', 'RAM': '10', 'RAVAN': '9', 'SITA': '8'}\n"
     ]
    }
   ],
   "source": [
    "def Merge(dict1, dict2):\n",
    "    return(dict2.update(dict1))\n",
    "\n",
    "dict1 = {}\n",
    "for i in range(3):\n",
    "    var = input(\"Enter variable: \")\n",
    "    num = input(\"Enter number: \")\n",
    "    dict1[var] = num\n",
    "\n",
    "dict2 = {}\n",
    "for i in range(3):\n",
    "    var = input(\"Enter variable: \")\n",
    "    num = input(\"Enter number: \")\n",
    "    dict2[var] = num\n",
    " \n",
    "print(Merge(dict1, dict2))\n",
    "\n",
    "print(dict2)"
   ]
  },
  {
   "cell_type": "markdown",
   "metadata": {
    "id": "QQgUF-1iG-HD"
   },
   "source": [
    "# 21) WAP to merge two sets given by user."
   ]
  },
  {
   "cell_type": "code",
   "execution_count": 35,
   "metadata": {
    "id": "6suV-zTuG-HD"
   },
   "outputs": [
    {
     "name": "stdout",
     "output_type": "stream",
     "text": [
      "{'b', 'c', 1, 2, 3, 'a'}\n"
     ]
    }
   ],
   "source": [
    "set1 = {\"a\", \"b\" , \"c\"}\n",
    "set2 = {1, 2, 3}\n",
    "\n",
    "set3 = set1.union(set2)\n",
    "print(set3)"
   ]
  },
  {
   "cell_type": "markdown",
   "metadata": {
    "id": "QQgUF-1iG-HD"
   },
   "source": [
    "# 22) WAP to find intersection of two sets given by user. "
   ]
  },
  {
   "cell_type": "code",
   "execution_count": 36,
   "metadata": {
    "id": "6suV-zTuG-HD"
   },
   "outputs": [
    {
     "name": "stdout",
     "output_type": "stream",
     "text": [
      "[90, 11, 58, 31, 66, 28, 54]\n"
     ]
    }
   ],
   "source": [
    "def intersection_list(list1, list2):  \n",
    "   list3 = [value for value in list1 if value in list2]  \n",
    "   return list3  \n",
    "   \n",
    "list1 = [40, 90, 11, 58, 31, 66, 28, 54, 79]  \n",
    "list2 = [58, 90, 54, 31, 45, 11, 66, 28, 26]  \n",
    "print(intersection_list(list1, list2))  "
   ]
  },
  {
   "cell_type": "code",
   "execution_count": null,
   "metadata": {},
   "outputs": [],
   "source": []
  }
 ],
 "metadata": {
  "colab": {
   "name": "Python (Lab - 03) (List) - Payal Parmar.ipynb",
   "provenance": []
  },
  "kernelspec": {
   "display_name": "Python 3 (ipykernel)",
   "language": "python",
   "name": "python3"
  },
  "language_info": {
   "codemirror_mode": {
    "name": "ipython",
    "version": 3
   },
   "file_extension": ".py",
   "mimetype": "text/x-python",
   "name": "python",
   "nbconvert_exporter": "python",
   "pygments_lexer": "ipython3",
   "version": "3.9.12"
  }
 },
 "nbformat": 4,
 "nbformat_minor": 1
}
