{
 "cells": [
  {
   "cell_type": "markdown",
   "metadata": {},
   "source": [
    "\n",
    "___\n",
    "\n",
    "<a href='https://www.darshan.ac.in/'> <img src='https://gtu.darshan.ac.in/Upload/Logo/DIET_Logo.svg' /></a>\n",
    "___\n",
    "<pre>\n",
    "<center><b>Python for Data Science - 3150713</b></center>\n",
    "<center><b>Lab - 2</b></center>\n",
    "<center><i>Rewrite all the programs of Lab-1 with Function</i></center> \n",
    "<pre>"
   ]
  },
  {
   "cell_type": "markdown",
   "metadata": {},
   "source": [
    "# 01) WAP to add two numbers entered by user"
   ]
  },
  {
   "cell_type": "code",
   "execution_count": 1,
   "metadata": {},
   "outputs": [
    {
     "name": "stdout",
     "output_type": "stream",
     "text": [
      "Enter 1st number : 3\n",
      "Enter 2nd number : 2\n",
      "Sum of given number is  5\n"
     ]
    }
   ],
   "source": [
    "def sum(a,b):\n",
    "    return (a+b)\n",
    "\n",
    "num1 = int(input(\"Enter 1st number : \"))\n",
    "num2 = int(input(\"Enter 2nd number : \"))\n",
    "\n",
    "print(\"Sum of given number is \",sum(num1,num2))"
   ]
  },
  {
   "cell_type": "markdown",
   "metadata": {},
   "source": [
    "# 02) WAP to calculate simple interest."
   ]
  },
  {
   "cell_type": "code",
   "execution_count": 5,
   "metadata": {},
   "outputs": [
    {
     "name": "stdout",
     "output_type": "stream",
     "text": [
      "The principal is : 2000\n",
      "The time period in month is : 2\n",
      "The rate of interest is : 1.5\n",
      "Simple interest is :  60.0\n"
     ]
    }
   ],
   "source": [
    "def interest(p,t,r) :\n",
    "    return (p*t*r/100)\n",
    "\n",
    "p = int(input(\"The principal is : \"))\n",
    "t = int(input(\"The time period in month is : \"))\n",
    "r = float(input(\"The rate of interest is : \"))\n",
    "\n",
    "print(\"Simple interest is : \",interest(p,t,r))"
   ]
  },
  {
   "cell_type": "markdown",
   "metadata": {},
   "source": [
    "# 03) WAP to calculate area of circle."
   ]
  },
  {
   "cell_type": "code",
   "execution_count": 4,
   "metadata": {},
   "outputs": [
    {
     "name": "stdout",
     "output_type": "stream",
     "text": [
      "Enter radius of circle : 5\n",
      "Area of circle is :  78.5\n"
     ]
    }
   ],
   "source": [
    "def area(r):\n",
    "    return 3.14*r*r\n",
    "\n",
    "r = float(input(\"Enter radius of circle : \"))\n",
    "print(\"Area of circle is : \",area(r))"
   ]
  },
  {
   "cell_type": "markdown",
   "metadata": {},
   "source": [
    "# 04) WAP to print Multiplication table of given number without using loop."
   ]
  },
  {
   "cell_type": "code",
   "execution_count": 6,
   "metadata": {},
   "outputs": [
    {
     "name": "stdout",
     "output_type": "stream",
     "text": [
      "Enter number for multiplication table : 10\n",
      "10 * 1 = 10\n",
      "10 * 2 = 20\n",
      "10 * 3 = 30\n",
      "10 * 4 = 40\n",
      "10 * 5 = 50\n",
      "10 * 6 = 60\n",
      "10 * 7 = 70\n",
      "10 * 8 = 80\n",
      "10 * 9 = 90\n",
      "10 * 10 = 100\n"
     ]
    }
   ],
   "source": [
    "def mul_table(n, i):\n",
    "     \n",
    "    if (i > 10):\n",
    "        return\n",
    "\n",
    "    print(n,\"*\",i,\"=\",n * i)\n",
    "    \n",
    "    return mul_table(n, i + 1)\n",
    "\n",
    "n = int(input(\"Enter number for multiplication table : \"))\n",
    "\n",
    "mul_table(n, 1)"
   ]
  },
  {
   "cell_type": "markdown",
   "metadata": {},
   "source": [
    "# 05) WAP to check whether the given number is positive or negative."
   ]
  },
  {
   "cell_type": "code",
   "execution_count": 7,
   "metadata": {},
   "outputs": [
    {
     "name": "stdout",
     "output_type": "stream",
     "text": [
      "Enter number to check number is positive or negative : 5\n",
      "Number is positive\n"
     ]
    }
   ],
   "source": [
    "def check_positive_negative(n):\n",
    "    if (n>0) :\n",
    "        print(\"Number is positive\")\n",
    "    elif (n<0) :\n",
    "        print(\"Number is negative\")\n",
    "    else :\n",
    "        print(\"Number is zero\")\n",
    "        \n",
    "n = int(input(\"Enter number to check number is positive or negative : \"))\n",
    "check_positive_negative(n)"
   ]
  },
  {
   "cell_type": "markdown",
   "metadata": {},
   "source": [
    "# 06) WAP to find out largest number from given three numbers."
   ]
  },
  {
   "cell_type": "code",
   "execution_count": 10,
   "metadata": {},
   "outputs": [
    {
     "name": "stdout",
     "output_type": "stream",
     "text": [
      "Enter 1st number : 4\n",
      "Enter 2nd number : 3\n",
      "Enter 3rd number : 6\n",
      "6 is greater number\n"
     ]
    }
   ],
   "source": [
    "def greater_from_three(a,b,c):\n",
    "    if a > b and a > c :\n",
    "        return a\n",
    "        \n",
    "    elif b > c :\n",
    "        return b\n",
    "    \n",
    "    else :\n",
    "        return c\n",
    "\n",
    "a=int(input(\"Enter 1st number : \"))\n",
    "b=int(input(\"Enter 2nd number : \"))\n",
    "c=int(input(\"Enter 3rd number : \"))\n",
    "\n",
    "print(greater_from_three(a,b,c),\"is greater number\")"
   ]
  },
  {
   "cell_type": "markdown",
   "metadata": {},
   "source": [
    "# 07) WAP to implement simple calculator which performs (add,sub,mul,div) of two numbers based on user input."
   ]
  },
  {
   "cell_type": "code",
   "execution_count": 11,
   "metadata": {},
   "outputs": [
    {
     "name": "stdout",
     "output_type": "stream",
     "text": [
      "Enter arithmatic operation from +,-,*,/ and enter 0 to exit : +\n",
      "Enter 1st number : 3\n",
      "Enter 2nd number : 2\n",
      "Sum of given number is :  5\n",
      "\n",
      "\n",
      "Enter arithmatic operation from +,-,*,/ and enter 0 to exit : -\n",
      "Enter 1st number : 3\n",
      "Enter 2nd number : 2\n",
      "Subtraction of given number is :  1\n",
      "\n",
      "\n",
      "Enter arithmatic operation from +,-,*,/ and enter 0 to exit : *\n",
      "Enter 1st number : 3\n",
      "Enter 2nd number : 2\n",
      "Multiplication of given number is :  6\n",
      "\n",
      "\n",
      "Enter arithmatic operation from +,-,*,/ and enter 0 to exit : /\n",
      "Enter 1st number : 3\n",
      "Enter 2nd number : 2\n",
      "Division of given number is :  1.5\n",
      "\n",
      "\n",
      "Enter arithmatic operation from +,-,*,/ and enter 0 to exit : %\n",
      "Invalid operation choice !!\n",
      "Enter arithmatic operation from +,-,*,/ and enter 0 to exit : 0\n"
     ]
    }
   ],
   "source": [
    "def calculate(num1,num2,operation):\n",
    "    if operation == '+' : \n",
    "        print(\"Sum of given number is : \",(num1+num2))\n",
    "    elif operation == '-' :\n",
    "        print(\"Subtraction of given number is : \",(num1-num2))\n",
    "    elif operation == '*' :\n",
    "        print(\"Multiplication of given number is : \",(num1*num2))\n",
    "    elif operation == '/' :\n",
    "        print(\"Division of given number is : \",(num1/num2))\n",
    "    \n",
    "    print(\"\\n\")\n",
    "\n",
    "i=1\n",
    "while i==1 :\n",
    "    operation = input(\"Enter arithmatic operation from +,-,*,/ and enter 0 to exit : \")\n",
    "    if operation == '0' :\n",
    "        i=0\n",
    "        break\n",
    "        \n",
    "    if (operation != '+' and operation != '-' and operation != '*' and operation != '/' and operation != '0') :\n",
    "        print(\"Invalid operation choice !!\")\n",
    "        continue\n",
    "\n",
    "    num1 = int(input(\"Enter 1st number : \"))\n",
    "    num2 = int(input(\"Enter 2nd number : \"))\n",
    "    \n",
    "    calculate(num1,num2,operation)"
   ]
  },
  {
   "cell_type": "markdown",
   "metadata": {},
   "source": [
    "# 08) WAP to print 1 to n"
   ]
  },
  {
   "cell_type": "code",
   "execution_count": 13,
   "metadata": {},
   "outputs": [
    {
     "name": "stdout",
     "output_type": "stream",
     "text": [
      "Enter n : 5\n",
      "1\n",
      "2\n",
      "3\n",
      "4\n",
      "5\n"
     ]
    }
   ],
   "source": [
    "def display(n):\n",
    "    for i in range(1,n+1) :\n",
    "        print(i)\n",
    "\n",
    "n = int(input(\"Enter n : \"))\n",
    "display(n)"
   ]
  },
  {
   "cell_type": "markdown",
   "metadata": {},
   "source": [
    "# 09) WAP to print odd numbers between 1 to n"
   ]
  },
  {
   "cell_type": "code",
   "execution_count": 17,
   "metadata": {},
   "outputs": [
    {
     "name": "stdout",
     "output_type": "stream",
     "text": [
      "Enter n to print odd numbers between 1 to n : 10\n",
      "3\n",
      "5\n",
      "7\n",
      "9\n"
     ]
    }
   ],
   "source": [
    "def odd(n):\n",
    "    if(n%2!=0) :\n",
    "        print(i)\n",
    "\n",
    "n = int(input(\"Enter n to print odd numbers between 1 to n : \"))\n",
    "for i in range(2,n) :\n",
    "    odd(i)"
   ]
  },
  {
   "cell_type": "markdown",
   "metadata": {},
   "source": [
    "# 10) WAP to print sum of series 1–2+3–4+5–6+7...n"
   ]
  },
  {
   "cell_type": "code",
   "execution_count": 18,
   "metadata": {},
   "outputs": [
    {
     "name": "stdout",
     "output_type": "stream",
     "text": [
      "Enter length n of series 1–2+3–4+5–6+7...n to evaluate : 10\n",
      "Sum of series is  -5\n"
     ]
    }
   ],
   "source": [
    "def sum(n):\n",
    "    sum=0\n",
    "\n",
    "    for i in range(1,n+1) :\n",
    "        if(i%2==0) :\n",
    "            sum-=i\n",
    "        else :\n",
    "            sum+=i\n",
    "    return sum\n",
    "\n",
    "n = int(input(\"Enter length n of series 1–2+3–4+5–6+7...n to evaluate : \"))\n",
    "\n",
    "print(\"Sum of series is \",sum(n))"
   ]
  },
  {
   "cell_type": "markdown",
   "metadata": {},
   "source": [
    "# 11) WAP to print multiplication table of given number."
   ]
  },
  {
   "cell_type": "code",
   "execution_count": 19,
   "metadata": {},
   "outputs": [
    {
     "name": "stdout",
     "output_type": "stream",
     "text": [
      "Enter number for multiplication table : 10\n",
      "10 * 1 = 10\n",
      "10 * 2 = 20\n",
      "10 * 3 = 30\n",
      "10 * 4 = 40\n",
      "10 * 5 = 50\n",
      "10 * 6 = 60\n",
      "10 * 7 = 70\n",
      "10 * 8 = 80\n",
      "10 * 9 = 90\n",
      "10 * 10 = 100\n"
     ]
    }
   ],
   "source": [
    "def multiplication_table(n):\n",
    "    for i in range(1,n+1) : \n",
    "        print(n,\"*\",i,\"=\",n * i)\n",
    "\n",
    "n = int(input(\"Enter number for multiplication table : \"))\n",
    "multiplication_table(n)"
   ]
  },
  {
   "cell_type": "markdown",
   "metadata": {},
   "source": [
    "# 12) WAP to find factorial of the given number."
   ]
  },
  {
   "cell_type": "code",
   "execution_count": 20,
   "metadata": {},
   "outputs": [
    {
     "name": "stdout",
     "output_type": "stream",
     "text": [
      "Enter number to find factorial : 5\n",
      "Factorial of given number is  120\n"
     ]
    }
   ],
   "source": [
    "def factorial(n):\n",
    "    fact=1\n",
    "    for i in range (1,n+1):\n",
    "        fact=fact*i\n",
    "    return fact\n",
    "\n",
    "n = int(input(\"Enter number to find factorial : \"))\n",
    "print(\"Factorial of given number is \",factorial(n))"
   ]
  },
  {
   "cell_type": "markdown",
   "metadata": {},
   "source": [
    "# 13) WAP to find factors of the given number."
   ]
  },
  {
   "cell_type": "code",
   "execution_count": 21,
   "metadata": {},
   "outputs": [
    {
     "name": "stdout",
     "output_type": "stream",
     "text": [
      "Enter number to find factor : 8\n",
      "Factors of given number is :\n",
      "1\n",
      "2\n",
      "4\n",
      "8\n"
     ]
    }
   ],
   "source": [
    "def factor(n):\n",
    "    print(\"Factors of given number is :\")\n",
    "    for i in range (1,n+1):\n",
    "        if n%i==0 : \n",
    "            print(i)\n",
    "\n",
    "n = int(input(\"Enter number to find factor : \"))\n",
    "factor(n)"
   ]
  },
  {
   "cell_type": "markdown",
   "metadata": {},
   "source": [
    "# 14) WAP to find whether the given number is prime or not."
   ]
  },
  {
   "cell_type": "code",
   "execution_count": 23,
   "metadata": {},
   "outputs": [
    {
     "name": "stdout",
     "output_type": "stream",
     "text": [
      "Enter number to check prime or not : 21\n",
      "Number is not prime\n"
     ]
    }
   ],
   "source": [
    "def prime(n):\n",
    "    temp=1\n",
    "    for i in range (2,n):\n",
    "        if n%i==0 :\n",
    "            temp=0\n",
    "    if temp==1 :\n",
    "        return 1\n",
    "    else :\n",
    "        return 0\n",
    "    \n",
    "n = int(input(\"Enter number to check prime or not : \"))\n",
    "flag=prime(n)\n",
    "\n",
    "if flag==1:\n",
    "    print(\"Number is prime\")\n",
    "else :\n",
    "    print(\"Number is not prime\")"
   ]
  },
  {
   "cell_type": "markdown",
   "metadata": {},
   "source": [
    "# 15) WAP to print sum of digits of given number."
   ]
  },
  {
   "cell_type": "code",
   "execution_count": 24,
   "metadata": {},
   "outputs": [
    {
     "name": "stdout",
     "output_type": "stream",
     "text": [
      "Enter number to find sum of digits : 12345\n",
      "Sum of digit is  15\n"
     ]
    }
   ],
   "source": [
    "def sum_digit(n):\n",
    "    sum=0\n",
    "\n",
    "    while(n!=0) :\n",
    "        sum+=n%10\n",
    "        n//=10\n",
    "    return sum\n",
    "\n",
    "n = int(input(\"Enter number to find sum of digits : \"))\n",
    "print(\"Sum of digit is \",sum_digit(n))"
   ]
  },
  {
   "cell_type": "markdown",
   "metadata": {},
   "source": [
    "# 16) WAP to find out prime numbers between given two numbers."
   ]
  },
  {
   "cell_type": "code",
   "execution_count": 25,
   "metadata": {},
   "outputs": [
    {
     "name": "stdout",
     "output_type": "stream",
     "text": [
      "Enter starting number : 1\n",
      "Enter ending number : 30\n",
      "Prime number between  1  and  30  is : \n",
      "2\n",
      "3\n",
      "5\n",
      "7\n",
      "11\n",
      "13\n",
      "17\n",
      "19\n",
      "23\n",
      "29\n"
     ]
    }
   ],
   "source": [
    "def print_prime(n1,n2):\n",
    "    print(\"Prime number between \",n1,\" and \",n2,\" is : \")\n",
    "    for i in range(n1+1,n2) :\n",
    "        temp=1\n",
    "        for j in range (2,i):\n",
    "            if i%j==0 :\n",
    "                temp=0\n",
    "\n",
    "        if temp==1 :\n",
    "            print(i)\n",
    "\n",
    "n1 = int(input(\"Enter starting number : \"))\n",
    "n2 = int(input(\"Enter ending number : \"))\n",
    "print_prime(n1,n2)"
   ]
  },
  {
   "cell_type": "markdown",
   "metadata": {},
   "source": [
    "# 17) WAP to print Fibonacci series up to number given by user."
   ]
  },
  {
   "cell_type": "code",
   "execution_count": 26,
   "metadata": {},
   "outputs": [
    {
     "name": "stdout",
     "output_type": "stream",
     "text": [
      "Enter length of fibonacci series : 8\n",
      "Fibonacci series is \n",
      "0 1 1 2 3 5 8 13 "
     ]
    }
   ],
   "source": [
    "def fibonacci(n):\n",
    "    n1=0\n",
    "    n2=1\n",
    "    temp=0\n",
    "\n",
    "    if n<1 :\n",
    "        print(\"Enter positive integer !!\")    \n",
    "    elif n==1 :\n",
    "        print(\"Fibonacci series is \",n1)\n",
    "    elif n==2 :\n",
    "        print(\"Fibonacci series is \")\n",
    "        print(n1,end=\" \")\n",
    "        print(n2)\n",
    "    else :\n",
    "        print(\"Fibonacci series is \")\n",
    "        print(n1,end=\" \")\n",
    "        print(n2,end=\" \")\n",
    "\n",
    "        for i in range(3,n+1) :\n",
    "            temp=n1+n2\n",
    "            n1=n2\n",
    "            n2=temp\n",
    "            print(temp,end=\" \")\n",
    "    \n",
    "n = int(input(\"Enter length of fibonacci series : \"))\n",
    "fibonacci(n)"
   ]
  },
  {
   "cell_type": "markdown",
   "metadata": {},
   "source": [
    "# 18) WAP to Find largest prime factor of given number."
   ]
  },
  {
   "cell_type": "code",
   "execution_count": 28,
   "metadata": {},
   "outputs": [
    {
     "name": "stdout",
     "output_type": "stream",
     "text": [
      "Enter number : 21\n",
      "7\n"
     ]
    }
   ],
   "source": [
    "def Largest_Prime_Factor(n):\n",
    "    return next(n // i for i in range(1, n) if n % i == 0 and is_prime(n // i))\n",
    "def is_prime(m):\n",
    "    return all(m % i for i in range(2, m - 1))\n",
    "\n",
    "n = int(input(\"Enter number : \"))\n",
    "\n",
    "temp=1\n",
    "\n",
    "print(Largest_Prime_Factor(n))"
   ]
  },
  {
   "cell_type": "markdown",
   "metadata": {},
   "source": [
    "# 19) WAP to print sum for cube of first n natural numbers."
   ]
  },
  {
   "cell_type": "code",
   "execution_count": 29,
   "metadata": {},
   "outputs": [
    {
     "name": "stdout",
     "output_type": "stream",
     "text": [
      "Enter n : 3\n",
      "sum of cube of  3  numbers is  36\n"
     ]
    }
   ],
   "source": [
    "def cube_sum(n):\n",
    "    sum=0\n",
    "    for i in range(1,n+1) :\n",
    "        sum+=i*i*i\n",
    "    return sum\n",
    "\n",
    "n = int(input(\"Enter n : \"))\n",
    "print(\"sum of cube of \",n,\" numbers is \",cube_sum(n))"
   ]
  },
  {
   "cell_type": "markdown",
   "metadata": {},
   "source": [
    "# 20) WAP to converts the given decimal number to its binary equivalent.\n",
    "\n"
   ]
  },
  {
   "cell_type": "code",
   "execution_count": 30,
   "metadata": {},
   "outputs": [
    {
     "name": "stdout",
     "output_type": "stream",
     "text": [
      "Enter a number: 8\n",
      "Binary Equivalent is: \n",
      "1000"
     ]
    }
   ],
   "source": [
    "def binary(n):\n",
    "    a=[]\n",
    "    while(n>0):\n",
    "        dig=n%2\n",
    "        a.append(dig)\n",
    "        n=n//2\n",
    "    a.reverse()\n",
    "    print(\"Binary Equivalent is: \")\n",
    "    for i in a:\n",
    "        print(i,end=\"\")\n",
    "\n",
    "n=int(input(\"Enter a number: \"))\n",
    "binary(n)"
   ]
  },
  {
   "cell_type": "markdown",
   "metadata": {},
   "source": [
    "# 21) WAP to print following pattern\n",
    "\n",
    "<pre>\n",
    "*\n",
    "* *\n",
    "* * *\n",
    "* * * *\n",
    "</pre>\n"
   ]
  },
  {
   "cell_type": "code",
   "execution_count": 37,
   "metadata": {},
   "outputs": [
    {
     "name": "stdout",
     "output_type": "stream",
     "text": [
      "Enter rows : 4\n",
      "* \n",
      "* * \n",
      "* * * \n",
      "* * * * \n"
     ]
    }
   ],
   "source": [
    "def pattern(n):\n",
    "    for i in range (1,n+1) : \n",
    "        for j in range (1,i+1) :\n",
    "            print(\"*\", end=\" \")\n",
    "        print()\n",
    "\n",
    "n = int(input(\"Enter rows : \"))\n",
    "pattern(n)"
   ]
  },
  {
   "cell_type": "markdown",
   "metadata": {},
   "source": [
    "# 22) WAP to print following pattern\n",
    "\n",
    "<pre>$ $ $ $\n",
    "$ $ $\n",
    "$ $\n",
    "$</pre>\n"
   ]
  },
  {
   "cell_type": "code",
   "execution_count": 36,
   "metadata": {},
   "outputs": [
    {
     "name": "stdout",
     "output_type": "stream",
     "text": [
      "Enter rows : 4\n",
      "$ $ $ $ \n",
      "$ $ $ \n",
      "$ $ \n",
      "$ \n"
     ]
    }
   ],
   "source": [
    "def pattern(n):\n",
    "    for i in range (n+1,1,-1) : \n",
    "        for j in range (i,1,-1) :\n",
    "            print(\"$\", end=\" \")\n",
    "        print()\n",
    "\n",
    "n = int(input(\"Enter rows : \"))\n",
    "pattern(n)"
   ]
  },
  {
   "cell_type": "markdown",
   "metadata": {},
   "source": [
    "# 23) WAP to print following pattern\n",
    "\n",
    "<pre>\n",
    "# # # # #\n",
    "  # # #\n",
    "    #\n",
    "  # # #\n",
    "# # # # #\n",
    "</pre>\n"
   ]
  },
  {
   "cell_type": "code",
   "execution_count": 33,
   "metadata": {},
   "outputs": [
    {
     "name": "stdout",
     "output_type": "stream",
     "text": [
      "Enter rows : 5\n",
      "# # # # # \n",
      "  # # # \n",
      "    # \n",
      "  # # # \n",
      "# # # # # \n"
     ]
    }
   ],
   "source": [
    "def pattern(n):\n",
    "    i = 0\n",
    "    while i <= rows - 1:\n",
    "        j = 0\n",
    "        while j < i:\n",
    "            print('', end=' ')\n",
    "            j += 1\n",
    "        k = i\n",
    "        while k <= rows - 1:\n",
    "            print('#', end=' ')\n",
    "            k += 1\n",
    "        print()\n",
    "        i += 2\n",
    "\n",
    "    i = rows - 3 \n",
    "    while i >= 0:\n",
    "        j = 0\n",
    "        while j < i:\n",
    "            print('', end=' ')\n",
    "            j += 1\n",
    "        k = i\n",
    "        while k <= rows - 1:\n",
    "            print('#', end=' ')\n",
    "            k += 1\n",
    "        print('')\n",
    "        i -= 2\n",
    "\n",
    "\n",
    "rows = int(input(\"Enter rows : \"))\n",
    "pattern(rows)"
   ]
  },
  {
   "cell_type": "markdown",
   "metadata": {},
   "source": [
    "# 24) WAP to print following pattern\n",
    "\n",
    "<pre>\n",
    "1\n",
    "2 3\n",
    "4 5 6\n",
    "7 8 9 10\n",
    "</pre>\n"
   ]
  },
  {
   "cell_type": "code",
   "execution_count": 35,
   "metadata": {},
   "outputs": [
    {
     "name": "stdout",
     "output_type": "stream",
     "text": [
      "Enter rows : 4\n",
      "1 \n",
      "2 3 \n",
      "4 5 6 \n",
      "7 8 9 10 \n"
     ]
    }
   ],
   "source": [
    "def pattern(n):\n",
    "    temp=1\n",
    "    for i in range (1,n+1) : \n",
    "        for j in range (1,i+1) :\n",
    "            print(temp, end=\" \")\n",
    "            temp+=1\n",
    "        print()\n",
    "    \n",
    "n = int(input(\"Enter rows : \"))\n",
    "pattern(n)"
   ]
  },
  {
   "cell_type": "code",
   "execution_count": null,
   "metadata": {},
   "outputs": [],
   "source": []
  }
 ],
 "metadata": {
  "kernelspec": {
   "display_name": "Python 3 (ipykernel)",
   "language": "python",
   "name": "python3"
  },
  "language_info": {
   "codemirror_mode": {
    "name": "ipython",
    "version": 3
   },
   "file_extension": ".py",
   "mimetype": "text/x-python",
   "name": "python",
   "nbconvert_exporter": "python",
   "pygments_lexer": "ipython3",
   "version": "3.9.12"
  }
 },
 "nbformat": 4,
 "nbformat_minor": 4
}
